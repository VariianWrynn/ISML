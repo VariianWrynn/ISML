{
 "cells": [
  {
   "cell_type": "markdown",
   "metadata": {},
   "source": [
    "# Hi\n",
    "I am a very simple example of using cvxpy to solve a linear problem. Please note, you may not have cvxpy or numpy installed. If not, I'd suggest downloading Anaconda and creating a conda environment. After activating that environment, use 'conda install' to install both numpy and cvxpy.\n",
    "\n",
    "The problem being solved:\n",
    "\n",
    "minimize: c'x        (' is transpose)\n",
    "\n",
    "with: Ax <= b        (A is a matrix)"
   ]
  },
  {
   "cell_type": "code",
   "execution_count": 2,
   "metadata": {},
   "outputs": [
    {
     "name": "stdout",
     "output_type": "stream",
     "text": [
      "\n",
      "The optimal value is -15.220912605552863\n",
      "A solution x is:\n",
      "[-1.10133381 -0.16360111 -0.89734939  0.03216603  0.6069123  -1.12687348\n",
      "  1.12967856  0.88176638  0.49075229  0.8984822 ]\n",
      "A dual solution is:\n",
      "[6.98805172e-10 6.11756416e-01 5.28171747e-01 1.07296862e+00\n",
      " 3.93759300e-09 2.30153870e+00 4.25704434e-10 7.61206896e-01\n",
      " 8.36906030e-09 2.49370377e-01 1.30187120e-09 2.06014070e+00\n",
      " 3.22417207e-01 3.84054343e-01 1.59493839e-09]\n"
     ]
    }
   ],
   "source": [
    "import cvxpy as cp\n",
    "import numpy as np\n",
    "\n",
    "# Generate a random non-trivial linear program\n",
    "\n",
    "# The dimensions of A\n",
    "m = 15 # There are 15 constraints\n",
    "n = 10 # There are ten input x variables\n",
    "\n",
    "# We need to fix the seed to ensure we are doing the same thing every time (otherwise it is hard to tinker with)\n",
    "np.random.seed(1)\n",
    "\n",
    "# There are some shenanigans here to ensure the linear problem is actually solvable\n",
    "s0 = np.random.randn(m)\n",
    "lamb0 = np.maximum(-s0, 0)\n",
    "s0 = np.maximum(s0, 0)\n",
    "x0 = np.random.randn(n)\n",
    "\n",
    "# Here we are solving this arbitrary set of constraints on x\n",
    "A = np.random.randn(m, n)\n",
    "b = A @ x0 + s0\n",
    "c = -A.T @ lamb0\n",
    "\n",
    "# Define and solve the CVXPY problem\n",
    "x = cp.Variable(n)\n",
    "prob = cp.Problem(cp.Minimize(c.T@x), [A @ x <= b])\n",
    "\n",
    "prob.solve()\n",
    "\n",
    "# Pretty Printing\n",
    "print(\"\\nThe optimal value is\", prob.value)\n",
    "print(\"A solution x is:\")\n",
    "print(x.value)\n",
    "print(\"A dual solution is:\")\n",
    "print(prob.constraints[0].dual_value)\n"
   ]
  },
  {
   "cell_type": "markdown",
   "metadata": {},
   "source": [
    "So, now for an explanation...\n",
    "\n",
    "We are trying to minimize c'x, which means our optimal value should be the lowest it can go."
   ]
  },
  {
   "cell_type": "code",
   "execution_count": 30,
   "metadata": {},
   "outputs": [
    {
     "name": "stdout",
     "output_type": "stream",
     "text": [
      "## c values\n",
      "[ 5.9159385  -0.38653276 -1.58376908 -3.45614976 -4.00186624  2.30939272\n",
      "  0.4855809  -2.76450383 -4.55428255 -1.02779359]\n",
      "## x values\n",
      "[-1.10133381 -0.16360111 -0.89734939  0.03216603  0.6069123  -1.12687348\n",
      "  1.12967856  0.88176638  0.49075229  0.8984822 ]\n",
      "## c'x\n",
      "-15.220912605552881\n",
      "## Ax < b\n",
      "[ 0.63348719 -0.07902089 -2.93864432  1.93790752 -0.33082348  2.57175626\n",
      " -1.07646905  1.88614126  3.10195539  2.75695133 -2.02611552  3.38791401\n",
      " -0.31286018 -0.46582275  2.65296181]\n",
      "b:  [ 2.17495142 -0.07902089 -2.93864432  1.93790752  0.57842629  2.57175626\n",
      "  0.67612818  1.88614126  3.3688581   2.75695134 -0.63273236  3.38791401\n",
      " -0.31286018 -0.46582275  3.89352826]\n",
      "[ True  True  True  True  True  True  True  True  True  True  True  True\n",
      "  True  True  True]\n"
     ]
    }
   ],
   "source": [
    "# Our 'c' values\n",
    "print(\"## c values\")\n",
    "print(c)\n",
    "\n",
    "# Our 'theoretical x' values (the ones we think will minimize c'x)\n",
    "print(\"## x values\")\n",
    "print(x.value)\n",
    "\n",
    "# Our product\n",
    "print(\"## c'x\")\n",
    "print(np.sum(c * x.value))\n",
    "\n",
    "# Finally, what does the A.x values end up as\n",
    "print(\"## Ax < b\")\n",
    "print(np.matmul(A, x.value))\n",
    "print(\"b: \", b)\n",
    "print(\"## All of the constraints that were not violated!\")\n",
    "print(np.matmul(A, x.value) <= b + 0.0001) # This is a hack... just because of nasty rounding"
   ]
  }
 ],
 "metadata": {
  "kernelspec": {
   "display_name": "mbd",
   "language": "python",
   "name": "python3"
  },
  "language_info": {
   "codemirror_mode": {
    "name": "ipython",
    "version": 3
   },
   "file_extension": ".py",
   "mimetype": "text/x-python",
   "name": "python",
   "nbconvert_exporter": "python",
   "pygments_lexer": "ipython3",
   "version": "3.10.11"
  },
  "orig_nbformat": 4
 },
 "nbformat": 4,
 "nbformat_minor": 2
}
