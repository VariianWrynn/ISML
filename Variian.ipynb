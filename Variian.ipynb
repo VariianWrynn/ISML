{
 "cells": [
  {
   "cell_type": "code",
   "execution_count": 13,
   "metadata": {},
   "outputs": [],
   "source": [
    "import cvxpy as cp\n",
    "import numpy as np\n",
    "import pandas as pd"
   ]
  },
  {
   "cell_type": "code",
   "execution_count": 14,
   "metadata": {},
   "outputs": [],
   "source": [
    "def load_and_split_data(train_path=\"train.csv\", test_path=\"test.csv\"):\n",
    "    \"\"\"\n",
    "    Load data from CSV files and split into training, validation, and test sets.\n",
    "    \n",
    "    Parameters:\n",
    "    - train_path: Path to the training CSV file.\n",
    "    - test_path: Path to the testing CSV file.\n",
    "    \n",
    "    Returns:\n",
    "    - train_data, train_labels: Training data and labels.\n",
    "    - val_data, val_labels: Validation data and labels.\n",
    "    - test_data, test_labels: Test data and labels.\n",
    "    \"\"\"\n",
    "    \n",
    "    # Load train.csv and split\n",
    "    train_df = pd.read_csv(train_path, header=None)\n",
    "\n",
    "    train_data = train_df.iloc[:4000, 1:].values\n",
    "    train_labels = train_df.iloc[:4000, 0].values\n",
    "\n",
    "    # print(\"The first 10 labels in the training set are: \", train_labels[:10])\n",
    "    # print(\"The first 10 features in the training set are: \", train_data[:10])    \n",
    "    \n",
    "    val_data = train_df.iloc[4000:, 1:].values\n",
    "    val_labels = train_df.iloc[4000:, 0].values\n",
    "    \n",
    "    # Load test.csv\n",
    "    test_df = pd.read_csv(test_path, header=None)\n",
    "    test_data = test_df.iloc[:, 1:].values\n",
    "    test_labels = test_df.iloc[:, 0].values\n",
    "\n",
    "    test_labels = test_labels * 2 - 1\n",
    "    val_labels = val_labels * 2 - 1\n",
    "    train_labels = train_labels * 2 - 1\n",
    "    \n",
    "    return train_data, train_labels, val_data, val_labels, test_data, test_labels\n",
    "\n",
    "# Load data\n",
    "train_data, train_labels, val_data, val_labels, test_data, test_labels = load_and_split_data()\n",
    "\n"
   ]
  },
  {
   "cell_type": "markdown",
   "metadata": {},
   "source": [
    "# Q2"
   ]
  },
  {
   "cell_type": "code",
   "execution_count": 15,
   "metadata": {},
   "outputs": [],
   "source": [
    "def svm_train_primal(data_train, label_train, regularisation_para_C):    \n",
    "    N, d = data_train.shape\n",
    "    w = cp.Variable(d)\n",
    "    b = cp.Variable()\n",
    "    xi = cp.Variable(N)\n",
    "    \n",
    "    # Objective function\n",
    "    objective = cp.Minimize(0.5 * cp.norm(w,2)**2 + (regularisation_para_C/N) * cp.sum(xi))\n",
    "    \n",
    "    # Constraints\n",
    "    constraints = [cp.multiply(label_train, data_train @ w + b) >= 1 - xi, xi >= 0]\n",
    "    \n",
    "    # Solve the problem\n",
    "    problem = cp.Problem(objective, constraints)\n",
    "    problem.solve()\n",
    "\n",
    "    svm_model = {'w': w.value, 'b': b.value}\n",
    "    \n",
    "    return svm_model\n"
   ]
  },
  {
   "cell_type": "code",
   "execution_count": 16,
   "metadata": {},
   "outputs": [],
   "source": [
    "def svm_predict_primal(data_test, label_test, svm_model):\n",
    "    # Extract w and b from the model\n",
    "    w = svm_model['w']\n",
    "    b = svm_model['b']\n",
    "\n",
    "    # Predict\n",
    "    preds = np.sign(np.dot(data_test, w) + b)\n",
    "    \n",
    "    # Calculate accuracy\n",
    "    test_accuracy = np.mean(preds == label_test)\n",
    "    return test_accuracy\n"
   ]
  },
  {
   "cell_type": "code",
   "execution_count": 30,
   "metadata": {},
   "outputs": [
    {
     "name": "stdout",
     "output_type": "stream",
     "text": [
      "b: 1.779813717087077\n",
      "sum of w: -0.1452156803361282\n",
      "Test Accuracy: 96.80%\n"
     ]
    }
   ],
   "source": [
    "svm_model = svm_train_primal(train_data, train_labels, 100)\n",
    "#print b and sum of w\n",
    "print(f\"b: {svm_model['b']}\")\n",
    "print(f\"sum of w: {np.sum(svm_model['w'])}\")\n",
    "#test for the accuraccy\n",
    "test_accuracy = svm_predict_primal(test_data, test_labels, svm_model)\n",
    "print(f\"Test Accuracy: {test_accuracy * 100:.2f}%\")"
   ]
  },
  {
   "cell_type": "markdown",
   "metadata": {},
   "source": [
    "# Q3"
   ]
  },
  {
   "cell_type": "code",
   "execution_count": 18,
   "metadata": {},
   "outputs": [],
   "source": [
    "def svm_train_dual(data_train, label_train, regularisation_para_C):\n",
    "    # regularization_term = 0\n",
    "    N,_ = data_train.shape\n",
    "    alpha = cp.Variable((N,1))\n",
    "\n",
    "    # Reshape label_train to be a column vector\n",
    "    label_train = label_train.reshape(-1, 1)\n",
    "    mult = label_train * data_train\n",
    "\n",
    "    mult_transpose = mult.T\n",
    "\n",
    "    # Construct the kernel (gram matrix) with regularization\\\n",
    "    K = cp.sum_squares(mult_transpose @ alpha)\n",
    "    \n",
    "    # Objective\n",
    "    objective = cp.Minimize(-1 * cp.sum(alpha) + K)\n",
    "    \n",
    "    # Constraints\n",
    "    constraints = [\n",
    "        cp.sum(cp.multiply(alpha, label_train)) == 0,\n",
    "        alpha >= 0,\n",
    "        alpha <= regularisation_para_C / N\n",
    "    ]\n",
    "    \n",
    "    # Solve the problem\n",
    "    problem = cp.Problem(objective, constraints)\n",
    "    problem.solve()\n",
    "    \n",
    "    return alpha.value\n"
   ]
  },
  {
   "cell_type": "code",
   "execution_count": 19,
   "metadata": {},
   "outputs": [
    {
     "name": "stdout",
     "output_type": "stream",
     "text": [
      "Dual: sum of alpha:  6.477017459325738\n"
     ]
    },
    {
     "name": "stderr",
     "output_type": "stream",
     "text": [
      "C:\\Users\\77837\\AppData\\Local\\Packages\\PythonSoftwareFoundation.Python.3.11_qbz5n2kfra8p0\\LocalCache\\local-packages\\Python311\\site-packages\\cvxpy\\problems\\problem.py:1387: UserWarning: Solution may be inaccurate. Try another solver, adjusting the solver settings, or solve with verbose=True for more information.\n",
      "  warnings.warn(\n"
     ]
    }
   ],
   "source": [
    "alpha = svm_train_dual(train_data, train_labels, 100)\n",
    "print(\"Dual: sum of alpha: \", np.sum(alpha))"
   ]
  },
  {
   "cell_type": "markdown",
   "metadata": {},
   "source": [
    "# Q4"
   ]
  },
  {
   "cell_type": "code",
   "execution_count": 20,
   "metadata": {},
   "outputs": [
    {
     "name": "stdout",
     "output_type": "stream",
     "text": [
      "(4000, 4000)\n",
      "Primal from Dual:\tsum of w:  3092.3424254572155\n",
      "Primal from Dual:\tb:  [-55.85478171  53.85478171  53.85478171 ...  53.85478171  53.85478171\n",
      "  53.85478171]\n"
     ]
    }
   ],
   "source": [
    "def compute_primal_from_dual(alpha, data_train, label_train, regularisation_para_C):\n",
    "    \"\"\"\n",
    "    Compute the primal SVM solution (w*, b*) from the dual solution alpha*.\n",
    "\n",
    "    Parameters:\n",
    "    - alpha: Dual solution (N,)\n",
    "    - data_train: Training data matrix (N x D)\n",
    "    - label_train: Training labels (N,)\n",
    "    - regularisation_para_C: Regularization parameter C\n",
    "\n",
    "    Returns:\n",
    "    - w: Weight vector (D,)\n",
    "    - b: Bias scalar\n",
    "    \"\"\"\n",
    "    # Compute w* from alpha*\n",
    "    print((alpha * label_train).shape)\n",
    "    w = np.dot((alpha * label_train).T, data_train)\n",
    "\n",
    "    # Compute b* using a support vector\n",
    "    # Find a support vector index (any example where 0 < alpha < C/N)\n",
    "    support_vector_indices = np.where((alpha > 1e-5) & (alpha < (regularisation_para_C / data_train.shape[0])))[0]\n",
    "    if len(support_vector_indices) > 0:\n",
    "        sv_index = support_vector_indices[0]\n",
    "        b = label_train[sv_index] - np.dot(w, data_train[sv_index])\n",
    "    else:\n",
    "        b = 0\n",
    "\n",
    "    return w, b\n",
    "\n",
    "w, b = compute_primal_from_dual(alpha, train_data, train_labels, 100)\n",
    "print(\"Primal from Dual:\\tsum of w: \", np.sum(w))\n",
    "print(\"Primal from Dual:\\tb: \", b)"
   ]
  },
  {
   "cell_type": "markdown",
   "metadata": {},
   "source": [
    "# Q5"
   ]
  },
  {
   "cell_type": "code",
   "execution_count": 21,
   "metadata": {},
   "outputs": [],
   "source": [
    "def find_support_vectors_from_primal(data_train, label_train, svm_model):\n",
    "    \"\"\"\n",
    "    Find the support vectors based on the primal SVM model.\n",
    "\n",
    "    Parameters:\n",
    "    - data_train: Training data matrix (N x D)\n",
    "    - label_train: Training labels (N,)\n",
    "    - svm_model: Trained SVM model with 'w' and 'b' as keys\n",
    "\n",
    "    Returns:\n",
    "    - support_vectors: Matrix of support vectors (S x D)\n",
    "    - support_vector_labels: Labels of the support vectors (S,)\n",
    "    - support_vector_indices: Indices of the support vectors in the training data\n",
    "    \"\"\"\n",
    "    # Extract w and b from the model\n",
    "    w = svm_model['w']\n",
    "    b = svm_model['b']\n",
    "\n",
    "    # Compute decision values\n",
    "    decision_values = label_train * (np.dot(data_train, w) + b)\n",
    "    \n",
    "    # Identify support vectors\n",
    "    support_vector_indices = np.where(decision_values <= 1)[0]\n",
    "    support_vectors = data_train[support_vector_indices]\n",
    "    support_vector_labels = label_train[support_vector_indices]\n",
    "\n",
    "    return support_vectors, support_vector_labels, support_vector_indices\n",
    "\n",
    "# Test the function using the provided SVM model (assuming it's available in the notebook)\n",
    "# This step assumes that the variables train_data, train_labels, and svm_model are already loaded.\n",
    "# svm_model = {\"w\": w, \"b\": b}\n",
    "# support_vectors, support_vector_labels, support_vector_indices = find_support_vectors_from_primal(train_data, train_labels, svm_model)\n",
    "# len(support_vector_indices)  # This will display the number of support vectors found\n"
   ]
  },
  {
   "cell_type": "markdown",
   "metadata": {},
   "source": [
    "# Q6"
   ]
  },
  {
   "cell_type": "code",
   "execution_count": 22,
   "metadata": {},
   "outputs": [],
   "source": [
    "def find_support_vectors_from_dual(data_train, label_train, alpha_values, threshold=1e-5):\n",
    "    \"\"\"\n",
    "    Find the support vectors based on the dual SVM solution.\n",
    "\n",
    "    Parameters:\n",
    "    - data_train: Training data matrix (N x D)\n",
    "    - label_train: Training labels (N,)\n",
    "    - alpha_values: Values of the Lagrange multipliers from the dual solution (N,)\n",
    "    - threshold: Threshold for considering a data point as a support vector\n",
    "\n",
    "    Returns:\n",
    "    - support_vectors: Matrix of support vectors (S x D)\n",
    "    - support_vector_labels: Labels of the support vectors (S,)\n",
    "    - support_vector_indices: Indices of the support vectors in the training data\n",
    "    - support_vector_alphas: Values of the Lagrange multipliers for the support vectors\n",
    "    \"\"\"\n",
    "    # Identify support vectors based on alpha values\n",
    "    support_vector_indices = np.where(alpha_values > threshold)[0]\n",
    "    support_vectors = data_train[support_vector_indices]\n",
    "    support_vector_labels = label_train[support_vector_indices]\n",
    "    support_vector_alphas = alpha_values[support_vector_indices]\n",
    "\n",
    "    return support_vectors, support_vector_labels, support_vector_indices, support_vector_alphas\n"
   ]
  },
  {
   "cell_type": "markdown",
   "metadata": {},
   "source": [
    "## Q7 (BEST C IS 4)"
   ]
  },
  {
   "cell_type": "code",
   "execution_count": 31,
   "metadata": {},
   "outputs": [
    {
     "name": "stdout",
     "output_type": "stream",
     "text": [
      "Best C: 4, Validation Accuracy: 97.49%\n",
      "Test Accuracy using best C: 97.47%\n"
     ]
    }
   ],
   "source": [
    "def select_best_C(train_data, train_labels, val_data, val_labels):\n",
    "    \"\"\"\n",
    "    Choose the best value of C using the validation set.\n",
    "\n",
    "    Parameters:\n",
    "    - train_data: Training data matrix\n",
    "    - train_labels: Training labels\n",
    "    - val_data: Validation data matrix\n",
    "    - val_labels: Validation labels\n",
    "\n",
    "    Returns:\n",
    "    - best_C: Optimal value of C\n",
    "    - best_accuracy: Accuracy on the validation set using the best C\n",
    "    \"\"\"\n",
    "    C_values = [2**i for i in range(-2, 11)]\n",
    "    best_accuracy = -0.1\n",
    "    best_C = None\n",
    "    \n",
    "    for C in C_values:\n",
    "        # print(\"Training for C={}\".format(C))\n",
    "        # Train SVM using the current value of C\n",
    "        svm_model = svm_train_primal(train_data, train_labels, C)\n",
    "        # print(svm_model)\n",
    "\n",
    "        accuracy = svm_predict_primal(val_data, val_labels, svm_model)\n",
    "\n",
    "        # print(\"Accuracy for C={}: {}\".format(C, accuracy))\n",
    "        \n",
    "        if accuracy > best_accuracy:\n",
    "            # print(\"Found better value of C: {} with accuracy: {}\".format(C, accuracy))\n",
    "            best_accuracy = accuracy\n",
    "            best_C = C\n",
    "            \n",
    "    return best_C, best_accuracy\n",
    "\n",
    "# Using the above function\n",
    "best_C, best_val_accuracy = select_best_C(train_data, train_labels, val_data, val_labels)\n",
    "print(f\"Best C: {best_C}, Validation Accuracy: {best_val_accuracy * 100:.2f}%\")\n",
    "\n",
    "# Train the SVM using the best C and report test accuracy\n",
    "svm_model = svm_train_primal(train_data, train_labels, best_C)\n",
    "\n",
    "test_accuracy = svm_predict_primal(test_data, test_labels, svm_model)\n",
    "print(f\"Test Accuracy using best C: {test_accuracy * 100:.2f}%\")"
   ]
  },
  {
   "cell_type": "markdown",
   "metadata": {},
   "source": [
    "# Q8"
   ]
  },
  {
   "cell_type": "code",
   "execution_count": 32,
   "metadata": {},
   "outputs": [],
   "source": [
    "from sklearn.svm import SVC\n",
    "from sklearn.pipeline import Pipeline\n",
    "\n",
    "def sklearn_svm():\n",
    "\n",
    "    #CREAT A SVC model, with C= 4\n",
    "    svc_model = Pipeline([('svc', SVC(C=4, kernel='linear'))])\n",
    "\n",
    "    #fit the model using the pipeline\n",
    "    svc_model.fit(train_data, train_labels)\n",
    "\n",
    "    #predict the model\n",
    "    svc_preds = svc_model.predict(test_data)\n",
    "\n",
    "    #compute the accuracy\n",
    "    svc_accuracy = np.mean(svc_preds == test_labels)\n",
    "    print(f\"Test Accuracy using best C: {svc_accuracy * 100:.2f}%\")\n",
    "    return svc_accuracy"
   ]
  },
  {
   "cell_type": "markdown",
   "metadata": {},
   "source": [
    "# Q8"
   ]
  },
  {
   "cell_type": "code",
   "execution_count": 33,
   "metadata": {},
   "outputs": [
    {
     "name": "stdout",
     "output_type": "stream",
     "text": [
      "Test Accuracy using best C: 96.13%\n"
     ]
    },
    {
     "data": {
      "text/plain": [
       "0.9613333333333334"
      ]
     },
     "execution_count": 33,
     "metadata": {},
     "output_type": "execute_result"
    }
   ],
   "source": [
    "sklearn_svm()"
   ]
  },
  {
   "cell_type": "markdown",
   "metadata": {},
   "source": [
    "# Q7"
   ]
  },
  {
   "cell_type": "code",
   "execution_count": 34,
   "metadata": {},
   "outputs": [
    {
     "name": "stdout",
     "output_type": "stream",
     "text": [
      "Best C: 4, Validation Accuracy: 97.49%\n",
      "Test Accuracy using best C: 97.47%\n"
     ]
    }
   ],
   "source": [
    "# Using the above function\n",
    "best_C, best_val_accuracy = select_best_C(train_data, train_labels, val_data, val_labels)\n",
    "print(f\"Best C: {best_C}, Validation Accuracy: {best_val_accuracy * 100:.2f}%\")\n",
    "\n",
    "# Train the SVM using the best C and report test accuracy\n",
    "svm_model = svm_train_primal(train_data, train_labels, best_C)\n",
    "\n",
    "test_accuracy = svm_predict_primal(test_data, test_labels, svm_model)\n",
    "print(f\"Test Accuracy using best C: {test_accuracy * 100:.2f}%\")"
   ]
  },
  {
   "cell_type": "markdown",
   "metadata": {},
   "source": [
    "# Q3"
   ]
  },
  {
   "cell_type": "markdown",
   "metadata": {},
   "source": [
    "# Q4"
   ]
  },
  {
   "cell_type": "code",
   "execution_count": 35,
   "metadata": {},
   "outputs": [
    {
     "name": "stdout",
     "output_type": "stream",
     "text": [
      "(4000, 4000)\n",
      "Primal from Dual:\tsum of w:  3092.3424254572155\n",
      "Primal from Dual:\tb:  [-55.85478171  53.85478171  53.85478171 ...  53.85478171  53.85478171\n",
      "  53.85478171]\n"
     ]
    }
   ],
   "source": [
    "w, b = compute_primal_from_dual(alpha, train_data, train_labels, 100)\n",
    "print(\"Primal from Dual:\\tsum of w: \", np.sum(w))\n",
    "print(\"Primal from Dual:\\tb: \", b)"
   ]
  },
  {
   "cell_type": "markdown",
   "metadata": {},
   "source": [
    "# Q5"
   ]
  },
  {
   "cell_type": "code",
   "execution_count": 28,
   "metadata": {},
   "outputs": [
    {
     "name": "stdout",
     "output_type": "stream",
     "text": [
      "Number of support vectors:  2436\n",
      "Support vector indices:  [   0    3    4 ... 3996 3997 3998]\n"
     ]
    }
   ],
   "source": [
    "support_vectors, support_vector_labels, support_vector_indices = find_support_vectors_from_primal(train_data, train_labels, svm_model)\n",
    "print(\"Number of support vectors: \", len(support_vector_indices))\n",
    "print(\"Support vector indices: \", support_vector_indices)"
   ]
  },
  {
   "cell_type": "markdown",
   "metadata": {},
   "source": [
    "# Q6"
   ]
  },
  {
   "cell_type": "code",
   "execution_count": 29,
   "metadata": {},
   "outputs": [
    {
     "name": "stdout",
     "output_type": "stream",
     "text": [
      "Number of support vectors:  372\n",
      "Support vector indices:  [   0   28   29   41   54   58   68   80   88  127  140  145  147  150\n",
      "  163  208  241  253  263  266  275  296  305  307  332  344  356  377\n",
      "  395  400  401  403  405  414  420  424  432  433  441  446  450  473\n",
      "  479  495  521  525  547  561  563  564  567  576  581  587  595  604\n",
      "  610  637  642  656  660  678  703  708  709  736  737  752  768  774\n",
      "  796  799  809  816  821  826  834  843  856  861  873  905  909  930\n",
      "  932  935  937  948  965  967  983  988 1001 1003 1015 1017 1022 1050\n",
      " 1067 1082 1098 1116 1123 1139 1142 1166 1167 1178 1179 1188 1219 1242\n",
      " 1266 1274 1295 1304 1320 1364 1371 1374 1377 1403 1406 1407 1414 1416\n",
      " 1440 1447 1450 1474 1475 1476 1478 1489 1492 1493 1531 1536 1539 1555\n",
      " 1582 1590 1598 1616 1627 1635 1636 1651 1659 1664 1667 1675 1680 1683\n",
      " 1684 1691 1692 1705 1706 1724 1737 1775 1778 1780 1799 1825 1829 1833\n",
      " 1840 1848 1851 1852 1854 1862 1864 1865 1869 1884 1886 1889 1890 1900\n",
      " 1912 1921 1924 1957 1972 1982 1993 2012 2021 2032 2035 2039 2047 2049\n",
      " 2051 2070 2088 2099 2108 2112 2136 2145 2167 2186 2189 2215 2249 2257\n",
      " 2259 2263 2269 2278 2281 2283 2288 2289 2309 2316 2356 2360 2390 2406\n",
      " 2407 2416 2436 2438 2446 2452 2482 2490 2497 2513 2518 2544 2550 2558\n",
      " 2570 2575 2620 2622 2624 2642 2645 2647 2648 2679 2688 2691 2699 2703\n",
      " 2715 2725 2728 2734 2751 2770 2813 2817 2857 2861 2874 2876 2885 2902\n",
      " 2905 2910 2919 2925 2927 2937 2946 2953 2964 2978 2998 3003 3014 3018\n",
      " 3052 3056 3066 3072 3079 3082 3083 3085 3099 3111 3145 3159 3165 3180\n",
      " 3188 3198 3203 3205 3212 3216 3232 3244 3248 3284 3297 3326 3364 3369\n",
      " 3371 3372 3376 3389 3397 3404 3414 3423 3429 3456 3465 3467 3481 3483\n",
      " 3485 3490 3510 3517 3519 3533 3558 3562 3564 3575 3588 3589 3596 3599\n",
      " 3611 3613 3649 3651 3659 3669 3672 3684 3687 3712 3725 3734 3735 3740\n",
      " 3752 3809 3811 3835 3844 3846 3847 3893 3905 3912 3916 3925 3926 3930\n",
      " 3942 3950 3953 3959 3969 3985 3990 3991]\n"
     ]
    }
   ],
   "source": [
    "support_vectors, support_vector_labels, support_vector_indices, support_vector_alphas = find_support_vectors_from_dual(train_data, train_labels, alpha)\n",
    "print(\"Number of support vectors: \", len(support_vector_indices))\n",
    "print(\"Support vector indices: \", support_vector_indices)"
   ]
  }
 ],
 "metadata": {
  "kernelspec": {
   "display_name": "Python 3",
   "language": "python",
   "name": "python3"
  },
  "language_info": {
   "codemirror_mode": {
    "name": "ipython",
    "version": 3
   },
   "file_extension": ".py",
   "mimetype": "text/x-python",
   "name": "python",
   "nbconvert_exporter": "python",
   "pygments_lexer": "ipython3",
   "version": "3.11.5"
  },
  "orig_nbformat": 4
 },
 "nbformat": 4,
 "nbformat_minor": 2
}
